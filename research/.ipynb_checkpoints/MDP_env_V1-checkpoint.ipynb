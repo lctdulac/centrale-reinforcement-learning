{
 "cells": [
  {
   "cell_type": "markdown",
   "metadata": {
    "colab_type": "text",
    "id": "80di-0BctsAg"
   },
   "source": [
    "## Génération du Markov Decision Process\n",
    "\n",
    "### Définition du problème :\n",
    "\n",
    "Un agent se trouve sur une case aléatoire d'une grille 4 $\\times$ 4, sur la majorité des case de cette grille se trouvent des malus de score qui sont appliqués lorsqu'on marche dessus. Sur une faible fraction des cases se trouve un trésor, qui offre une récompense. Le but de l'agent est de maximiser sa récompense, en outre, il doit trouver le plus court chemin vers le trésor. Voici la grille des états :\n",
    "\n",
    "$$grid = \\begin{bmatrix}\n",
    "1 & 2 & 3 & 4 \\\\\n",
    "5 & 0 & 7 & 8 \\\\\n",
    "9 & 10 & 11 & 12 \\\\\n",
    "0 & 14 & 15 & 16 \n",
    "\\end{bmatrix}$$\n",
    "\n",
    "On remarque que certains états sont impossibles, il y a des obstacles dessus, ce qui est traduit par une étoile sur la case correspondante.\n",
    "\n",
    "D'après la définition du problème, la fonction de récompense ne dépend que de la case sur laquelle l'agent se déplace à un certain instant. On a donc $R:S\\to \\mathbb{R}$. Voici la matrice de récompense :\n",
    "$$R=\\begin{bmatrix}\n",
    "-0.1 & -0.1 & -0.1 & -0.1 \\\\\n",
    "- 1 & 0 & -0.1 & -0.1 \\\\\n",
    "-0.1 & -0.1 & -0.1 & -0.1 \\\\\n",
    "0 & 1 & -0.1 & -0.1\n",
    "\\end{bmatrix}$$\n",
    "\n",
    "Les actions que peut prendre l'agent sont des déplacements dans les 4 directions, cependant, ces actions ne sont pas déterministes, l'agent ne peut que \"essayer\" d'aller dans une direction. Toutefois, s'il essaie d'aller dans une direction, il n'est pas possible qu'il aille à l'opposé. Par exemple, si l'agent prend l'action \"essayer d'aller en haut\", il n'est pas possible qu'il aille en bas, par contre il peut aller à gauche ou à droite avec une probabilité faible.\n",
    "\n",
    "\n",
    "\n"
   ]
  },
  {
   "cell_type": "markdown",
   "metadata": {
    "colab_type": "text",
    "id": "1Zbr6k5qSFmT"
   },
   "source": [
    "### Import des librairies\n",
    "\n"
   ]
  },
  {
   "cell_type": "code",
   "execution_count": 2,
   "metadata": {
    "colab": {},
    "colab_type": "code",
    "id": "R6LZanjzt6uf"
   },
   "outputs": [],
   "source": [
    "import numpy as np"
   ]
  },
  {
   "cell_type": "markdown",
   "metadata": {
    "colab_type": "text",
    "id": "23WLebUySLx8"
   },
   "source": [
    "### Définition des actions"
   ]
  },
  {
   "cell_type": "code",
   "execution_count": 3,
   "metadata": {
    "colab": {},
    "colab_type": "code",
    "id": "De43ReqY7IdV"
   },
   "outputs": [],
   "source": [
    "## dans le sens des aiguilles d'une montre\n",
    "\n",
    "actions = {'up' : [0.8,0.1,0.,0.1], \n",
    "           'right':[0.1,0.8,0.1,0], \n",
    "           'down':[0.,0.1,0.8,0.1], \n",
    "           'left':[0.1,0.,0.1,0.8]}"
   ]
  },
  {
   "cell_type": "markdown",
   "metadata": {
    "colab_type": "text",
    "id": "FT3RVJMfSQR6"
   },
   "source": [
    "### Définition de la matrice représentative de la grille"
   ]
  },
  {
   "cell_type": "code",
   "execution_count": 4,
   "metadata": {
    "colab": {},
    "colab_type": "code",
    "id": "grcI0sE2ROV7"
   },
   "outputs": [],
   "source": [
    "grid = np.array([[1,2,3,4],\n",
    "                 [5,0,7,8],\n",
    "                 [9,10,11,12],\n",
    "                 [0,14,15,16]]\n",
    "               )\n",
    "n_col = grid.shape[1]"
   ]
  },
  {
   "cell_type": "markdown",
   "metadata": {
    "colab_type": "text",
    "id": "Qq3D_Xl-SUqy"
   },
   "source": [
    "### Définition de la matrice d'adjacence"
   ]
  },
  {
   "cell_type": "code",
   "execution_count": 5,
   "metadata": {
    "colab": {
     "base_uri": "https://localhost:8080/",
     "height": 289
    },
    "colab_type": "code",
    "id": "FiQ5X0CiRPjS",
    "outputId": "03f3e87f-9921-46f2-de95-6f4fdc13e6ca"
   },
   "outputs": [
    {
     "name": "stdout",
     "output_type": "stream",
     "text": [
      "[[0. 1. 0. 0. 1. 0. 0. 0. 0. 0. 0. 0. 0. 0. 0. 0.]\n",
      " [1. 0. 1. 0. 0. 0. 0. 0. 0. 0. 0. 0. 0. 0. 0. 0.]\n",
      " [0. 1. 0. 1. 0. 0. 1. 0. 0. 0. 0. 0. 0. 0. 0. 0.]\n",
      " [0. 0. 1. 0. 1. 0. 0. 1. 0. 0. 0. 0. 0. 0. 0. 0.]\n",
      " [1. 0. 0. 1. 0. 0. 0. 0. 1. 0. 0. 0. 0. 0. 0. 0.]\n",
      " [0. 1. 0. 0. 1. 0. 1. 0. 0. 1. 0. 0. 0. 0. 0. 0.]\n",
      " [0. 0. 1. 0. 0. 0. 0. 1. 0. 0. 1. 0. 0. 0. 0. 0.]\n",
      " [0. 0. 0. 1. 0. 0. 1. 0. 1. 0. 0. 1. 0. 0. 0. 0.]\n",
      " [0. 0. 0. 0. 1. 0. 0. 1. 0. 1. 0. 0. 0. 0. 0. 0.]\n",
      " [0. 0. 0. 0. 0. 0. 0. 0. 1. 0. 1. 0. 0. 1. 0. 0.]\n",
      " [0. 0. 0. 0. 0. 0. 1. 0. 0. 1. 0. 1. 0. 0. 1. 0.]\n",
      " [0. 0. 0. 0. 0. 0. 0. 1. 0. 0. 1. 0. 0. 0. 0. 1.]\n",
      " [0. 0. 0. 0. 0. 0. 0. 0. 1. 0. 0. 1. 0. 1. 0. 0.]\n",
      " [0. 0. 0. 0. 0. 0. 0. 0. 0. 1. 0. 0. 0. 0. 1. 0.]\n",
      " [0. 0. 0. 0. 0. 0. 0. 0. 0. 0. 1. 0. 0. 1. 0. 1.]\n",
      " [0. 0. 0. 0. 0. 0. 0. 0. 0. 0. 0. 1. 0. 0. 1. 0.]]\n"
     ]
    }
   ],
   "source": [
    "## cases numérotées de gauche à droite et de haut en bas\n",
    "\n",
    "n_states = np.prod(grid.shape)\n",
    "adj = np.zeros((n_states, n_states))\n",
    "\n",
    "for i in range (0, n_states) :\n",
    "    for j in range (0, n_states) :\n",
    "    # Si on est sur un état adjacent, et que cet état n'est pas obstrué, on met un 1 qui signifie qu'on peut aller sur cet état à partir\n",
    "    # de l'état où l'on est\n",
    "        if (j == i - n_col or j == i+1 or j == i + n_col or j == i-1) and grid[j//n_col,j%n_col]!=0 :\n",
    "            adj[i,j] = 1\n",
    "\n",
    "print(adj)"
   ]
  },
  {
   "cell_type": "markdown",
   "metadata": {
    "colab_type": "text",
    "id": "-PVru__9SXZa"
   },
   "source": [
    "Une fois que l'on a la matrice d'adjacence, les matrices de transitions ne sont que des déclinaisons de cette matrice.\n",
    "### Définition des matrices de transition\n",
    "\n",
    "On considère que quelque soit l'état, on peut essayer d'aller dans toutes les directions. Cependant, les matrices de transitions doivent être stochastiques donc on modifie leur contenu de sorte que la somme de chaque ligne vale 1."
   ]
  },
  {
   "cell_type": "code",
   "execution_count": 6,
   "metadata": {
    "colab": {
     "base_uri": "https://localhost:8080/",
     "height": 1000
    },
    "colab_type": "code",
    "id": "yq-7Zn7LRha2",
    "outputId": "4533c462-9f06-43ba-aa7a-07859d3c432c"
   },
   "outputs": [],
   "source": [
    "T = []\n",
    "adj_coor = [-n_col, 1,n_col, -1]\n",
    "for action in actions :\n",
    "    Ta = np.zeros((n_states,n_states))\n",
    "    p = actions[action]\n",
    "    for i in range (0, n_states) :\n",
    "        for k in range(len(p)):\n",
    "            j = i+adj_coor[k]\n",
    "            if 0<=j<=15:\n",
    "                Ta[i, j] = adj[i, j]*p[k]\n",
    "                Lsum = np.sum(Ta[i,:])\n",
    "        if Lsum !=1:\n",
    "            Ta[i,:]*=1/Lsum\n",
    "    T.append(Ta)\n",
    "\n",
    "T = np.array(T)"
   ]
  },
  {
   "cell_type": "code",
   "execution_count": 7,
   "metadata": {},
   "outputs": [
    {
     "data": {
      "text/plain": [
       "(4, 16, 16)"
      ]
     },
     "execution_count": 7,
     "metadata": {},
     "output_type": "execute_result"
    }
   ],
   "source": [
    "T.shape"
   ]
  },
  {
   "cell_type": "code",
   "execution_count": 8,
   "metadata": {},
   "outputs": [
    {
     "name": "stdout",
     "output_type": "stream",
     "text": [
      "[0.         0.         0.         0.         0.         0.\n",
      " 0.         0.         0.         0.         0.11111111 0.\n",
      " 0.         0.         0.         0.88888889]\n"
     ]
    }
   ],
   "source": [
    "print(T[2,11,:])"
   ]
  },
  {
   "cell_type": "markdown",
   "metadata": {
    "colab_type": "text",
    "id": "OQny11x1SuzG"
   },
   "source": [
    "### Définition des matrices de récompense"
   ]
  },
  {
   "cell_type": "code",
   "execution_count": 9,
   "metadata": {
    "colab": {
     "base_uri": "https://localhost:8080/",
     "height": 62
    },
    "colab_type": "code",
    "id": "8Oy_GgTsRiDk",
    "outputId": "24fdd32f-f931-4acb-cec0-6d385ded3675"
   },
   "outputs": [
    {
     "name": "stdout",
     "output_type": "stream",
     "text": [
      "[-0.1 -0.1 -0.1 -0.1 -1.   0.  -0.1 -0.1 -0.1 -0.1 -0.1 -0.1  0.   1.\n",
      " -0.1 -0.1]\n"
     ]
    }
   ],
   "source": [
    "R = np.array([-0.1, -0.1, -0.1, -0.1,\n",
    "              -1, 0, -0.1, -0.1,\n",
    "              -0.1, -0.1, -0.1, -0.1,\n",
    "              0, 1, -0.1,-0.1]).transpose()\n",
    "print(R)"
   ]
  },
  {
   "cell_type": "code",
   "execution_count": 160,
   "metadata": {},
   "outputs": [],
   "source": [
    "## Autres rewards\n",
    "\n",
    "R2 = np.array([-0.4, -0.4, -0.4, -0.4,\n",
    "               -20, 0, -0.4, -0.4,\n",
    "               -0.4, -0.4, -0.4, -0.4,\n",
    "               0, 20, -0.4, -0.4]).transpose()"
   ]
  },
  {
   "cell_type": "code",
   "execution_count": 34,
   "metadata": {},
   "outputs": [
    {
     "data": {
      "text/plain": [
       "(16,)"
      ]
     },
     "execution_count": 34,
     "metadata": {},
     "output_type": "execute_result"
    }
   ],
   "source": [
    "R.shape"
   ]
  },
  {
   "cell_type": "markdown",
   "metadata": {},
   "source": [
    "# Algorithme de décision : Policy Iteration."
   ]
  },
  {
   "cell_type": "markdown",
   "metadata": {},
   "source": [
    "Notre système est défini par un Markov Decision Process (matrice de transition T, matrice de récompense R, états S, ici matrice adjacence et grille).\n",
    "\n",
    "Nous cherchons la politique optimale avec l'algorithme de Policy Iteration."
   ]
  },
  {
   "cell_type": "markdown",
   "metadata": {},
   "source": [
    "## 1. Utilisation de la toolbox MDP"
   ]
  },
  {
   "cell_type": "markdown",
   "metadata": {},
   "source": [
    "Doc : https://pymdptoolbox.readthedocs.io/en/latest/api/mdp.html"
   ]
  },
  {
   "cell_type": "code",
   "execution_count": 13,
   "metadata": {},
   "outputs": [
    {
     "data": {
      "text/plain": [
       "array([0.        , 0.        , 0.        , 0.        , 0.        ,\n",
       "       0.        , 0.        , 0.        , 0.        , 0.        ,\n",
       "       0.11111111, 0.        , 0.        , 0.        , 0.        ,\n",
       "       0.88888889])"
      ]
     },
     "execution_count": 13,
     "metadata": {},
     "output_type": "execute_result"
    }
   ],
   "source": [
    "T[2,11,:]"
   ]
  },
  {
   "cell_type": "code",
   "execution_count": 48,
   "metadata": {},
   "outputs": [
    {
     "data": {
      "text/plain": [
       "(0, 1, 2, 2, 2, 2, 2, 2, 1, 2, 2, 2, 1, 2, 3, 2)"
      ]
     },
     "execution_count": 48,
     "metadata": {},
     "output_type": "execute_result"
    }
   ],
   "source": [
    "import mdptoolbox\n",
    "\n",
    "val_it = mdptoolbox.mdp.ValueIteration(T, R, 0.96)\n",
    "val_it.run()\n",
    "pol = val_it.policy\n",
    "pol"
   ]
  },
  {
   "cell_type": "code",
   "execution_count": 43,
   "metadata": {},
   "outputs": [
    {
     "data": {
      "text/plain": [
       "(0, 1, 2, 2, 2, 2, 2, 2, 1, 2, 2, 2, 1, 2, 3, 2)"
      ]
     },
     "execution_count": 43,
     "metadata": {},
     "output_type": "execute_result"
    }
   ],
   "source": [
    "## Tests sur les rewards\n",
    "\n",
    "val_it2 = mdptoolbox.mdp.ValueIteration(T, R2, 0.96)\n",
    "val_it2.run()\n",
    "val_it2.policy"
   ]
  },
  {
   "cell_type": "code",
   "execution_count": 44,
   "metadata": {},
   "outputs": [
    {
     "data": {
      "text/plain": [
       "array([0., 1., 0., 0., 0., 0., 0., 0., 0., 0., 0., 0., 0., 0., 0., 0.])"
      ]
     },
     "execution_count": 44,
     "metadata": {},
     "output_type": "execute_result"
    }
   ],
   "source": [
    "T[0,0,:]"
   ]
  },
  {
   "cell_type": "code",
   "execution_count": 45,
   "metadata": {},
   "outputs": [
    {
     "data": {
      "text/plain": [
       "array([0., 0., 0., 0., 0., 0., 0., 0., 0., 0., 0., 0., 0., 0., 1., 0.])"
      ]
     },
     "execution_count": 45,
     "metadata": {},
     "output_type": "execute_result"
    }
   ],
   "source": [
    "T[2,15,:]"
   ]
  },
  {
   "cell_type": "markdown",
   "metadata": {},
   "source": [
    "## 2. Algorithme codé à la main"
   ]
  },
  {
   "cell_type": "code",
   "execution_count": null,
   "metadata": {},
   "outputs": [],
   "source": [
    "# Adam TODO"
   ]
  },
  {
   "cell_type": "markdown",
   "metadata": {},
   "source": [
    "## 3. Définition de l'agent"
   ]
  },
  {
   "cell_type": "code",
   "execution_count": 177,
   "metadata": {},
   "outputs": [],
   "source": [
    "from scipy import stats\n",
    "\n",
    "class Agent:\n",
    "    \n",
    "    def __init__(self, T, position, policy):\n",
    "        \n",
    "        self.T = T\n",
    "        self.policy = policy\n",
    "        self.position = position\n",
    "        self.history = []\n",
    "    \n",
    "    def goToNext(self):\n",
    "        \n",
    "        action_recommande = self.policy[self.position]\n",
    "        distribution_prochain_etat = self.T[action_recommande, self.position, :].tolist()\n",
    "        \n",
    "        probs, etats = [], []\n",
    "        \n",
    "        for j in range(len(distribution_prochain_etat)):\n",
    "            if distribution_prochain_etat[j] != 0:\n",
    "                probs.append(distribution_prochain_etat[j])\n",
    "                etats.append(j)\n",
    "        \n",
    "        # prochain_etat = np.random.choice(etats, 1, probs)\n",
    "        \n",
    "        custm = stats.rv_discrete(name=\"custm\", values=(etats, probs))\n",
    "        \n",
    "        prochain_etat = custm.rvs(size=1)\n",
    "        \n",
    "        self.history.append( (self.position, prochain_etat[0], action_recommande) )\n",
    "        self.position = prochain_etat[0]\n",
    "    \n",
    "        #print(\"nouvelle position: \", self.position)\n",
    "        \n",
    "    def getHistory(self):\n",
    "        return self.history"
   ]
  },
  {
   "cell_type": "code",
   "execution_count": 150,
   "metadata": {},
   "outputs": [],
   "source": [
    "agent = Agent(T, 0, pol)"
   ]
  },
  {
   "cell_type": "code",
   "execution_count": 158,
   "metadata": {},
   "outputs": [
    {
     "name": "stdout",
     "output_type": "stream",
     "text": [
      "nouvelle position:  13\n"
     ]
    }
   ],
   "source": [
    "agent.goToNext()"
   ]
  },
  {
   "cell_type": "code",
   "execution_count": 159,
   "metadata": {},
   "outputs": [
    {
     "data": {
      "text/plain": [
       "[(0, 1, 0),\n",
       " (1, 2, 1),\n",
       " (2, 6, 2),\n",
       " (6, 10, 2),\n",
       " (10, 11, 2),\n",
       " (11, 15, 2),\n",
       " (15, 14, 2),\n",
       " (14, 13, 3)]"
      ]
     },
     "execution_count": 159,
     "metadata": {},
     "output_type": "execute_result"
    }
   ],
   "source": [
    "agent.getHistory()"
   ]
  },
  {
   "cell_type": "code",
   "execution_count": 191,
   "metadata": {},
   "outputs": [],
   "source": [
    "import matplotlib.pyplot as plt\n",
    "%matplotlib inline\n",
    "\n",
    "def experiment_discount_factor(inf, sup, step, epochs):\n",
    "    \n",
    "    times = []\n",
    "    \n",
    "    for d in np.arange(inf, sup, step):\n",
    "        \n",
    "        \n",
    "        val_it = mdptoolbox.mdp.ValueIteration(T, R, 0.96)\n",
    "        val_it.run()\n",
    "        pol = val_it.policy\n",
    "        \n",
    "        time = []\n",
    "        for i in range(epochs):\n",
    "            agent = Agent(T, 0, pol)\n",
    "\n",
    "            while agent.position != 13:\n",
    "                agent.goToNext()\n",
    "                \n",
    "            time.append(len(agent.getHistory()))\n",
    "\n",
    "        times.append(np.mean(time))\n",
    "    \n",
    "    plt.figure(figsize=(10,6))\n",
    "    x = np.arange(inf, sup, step)\n",
    "    y = times\n",
    "    plt.scatter(x,\n",
    "                y)\n",
    "    \n",
    "    z = np.polyfit(x, y, 1)\n",
    "    p = np.poly1d(z)\n",
    "    plt.plot(x,p(x),\"r--\")\n",
    "    plt.show()"
   ]
  },
  {
   "cell_type": "code",
   "execution_count": 192,
   "metadata": {},
   "outputs": [
    {
     "data": {
      "image/png": "[encoded data removed]",
      "text/plain": [
       "<Figure size 720x432 with 1 Axes>"
      ]
     },
     "metadata": {
      "needs_background": "light"
     },
     "output_type": "display_data"
    }
   ],
   "source": [
    "experiment_discount_factor(0.1, 1, 0.01, epochs=10)"
   ]
  }
 ],
 "metadata": {
  "colab": {
   "collapsed_sections": [],
   "name": "Copie de MDP_V1.ipynb",
   "provenance": []
  },
  "kernelspec": {
   "display_name": "Python (data_science)",
   "language": "python",
   "name": "data_science"
  },
  "language_info": {
   "codemirror_mode": {
    "name": "ipython",
    "version": 3
   },
   "file_extension": ".py",
   "mimetype": "text/x-python",
   "name": "python",
   "nbconvert_exporter": "python",
   "pygments_lexer": "ipython3",
   "version": "3.7.4"
  }
 },
 "nbformat": 4,
 "nbformat_minor": 1
}
